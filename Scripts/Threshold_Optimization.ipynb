{
 "cells": [
  {
   "cell_type": "markdown",
   "id": "0bd16905",
   "metadata": {},
   "source": [
    "# Import Libraries / Verify Setup"
   ]
  },
  {
   "cell_type": "code",
   "execution_count": 1,
   "id": "ef7369bb",
   "metadata": {},
   "outputs": [],
   "source": [
    "import warnings\n",
    "warnings.filterwarnings('ignore') "
   ]
  },
  {
   "cell_type": "code",
   "execution_count": 2,
   "id": "c3a3ec45",
   "metadata": {},
   "outputs": [],
   "source": [
    "import pandas as pd\n",
    "import numpy as np\n",
    "import matplotlib.pyplot as plt\n",
    "import pickle\n",
    "import xgboost as xgb\n",
    "import shap"
   ]
  },
  {
   "cell_type": "markdown",
   "id": "b1ce1c0f",
   "metadata": {},
   "source": [
    "# Import Data"
   ]
  },
  {
   "cell_type": "code",
   "execution_count": 3,
   "id": "3438060b",
   "metadata": {},
   "outputs": [
    {
     "data": {
      "text/html": [
       "<div>\n",
       "<style scoped>\n",
       "    .dataframe tbody tr th:only-of-type {\n",
       "        vertical-align: middle;\n",
       "    }\n",
       "\n",
       "    .dataframe tbody tr th {\n",
       "        vertical-align: top;\n",
       "    }\n",
       "\n",
       "    .dataframe thead th {\n",
       "        text-align: right;\n",
       "    }\n",
       "</style>\n",
       "<table border=\"1\" class=\"dataframe\">\n",
       "  <thead>\n",
       "    <tr style=\"text-align: right;\">\n",
       "      <th></th>\n",
       "      <th>Diabetes_012</th>\n",
       "      <th>HighBP</th>\n",
       "      <th>HighChol</th>\n",
       "      <th>CholCheck</th>\n",
       "      <th>BMI</th>\n",
       "      <th>Smoker</th>\n",
       "      <th>Stroke</th>\n",
       "      <th>HeartDiseaseorAttack</th>\n",
       "      <th>PhysActivity</th>\n",
       "      <th>Fruits</th>\n",
       "      <th>...</th>\n",
       "      <th>AnyHealthcare</th>\n",
       "      <th>NoDocbcCost</th>\n",
       "      <th>GenHlth</th>\n",
       "      <th>MentHlth</th>\n",
       "      <th>PhysHlth</th>\n",
       "      <th>DiffWalk</th>\n",
       "      <th>Sex</th>\n",
       "      <th>Age</th>\n",
       "      <th>Education</th>\n",
       "      <th>Income</th>\n",
       "    </tr>\n",
       "  </thead>\n",
       "  <tbody>\n",
       "    <tr>\n",
       "      <th>0</th>\n",
       "      <td>0.0</td>\n",
       "      <td>1.0</td>\n",
       "      <td>1.0</td>\n",
       "      <td>1.0</td>\n",
       "      <td>40.0</td>\n",
       "      <td>1.0</td>\n",
       "      <td>0.0</td>\n",
       "      <td>0.0</td>\n",
       "      <td>0.0</td>\n",
       "      <td>0.0</td>\n",
       "      <td>...</td>\n",
       "      <td>1.0</td>\n",
       "      <td>0.0</td>\n",
       "      <td>5.0</td>\n",
       "      <td>18.0</td>\n",
       "      <td>15.0</td>\n",
       "      <td>1.0</td>\n",
       "      <td>0.0</td>\n",
       "      <td>9.0</td>\n",
       "      <td>4.0</td>\n",
       "      <td>3.0</td>\n",
       "    </tr>\n",
       "    <tr>\n",
       "      <th>1</th>\n",
       "      <td>0.0</td>\n",
       "      <td>0.0</td>\n",
       "      <td>0.0</td>\n",
       "      <td>0.0</td>\n",
       "      <td>25.0</td>\n",
       "      <td>1.0</td>\n",
       "      <td>0.0</td>\n",
       "      <td>0.0</td>\n",
       "      <td>1.0</td>\n",
       "      <td>0.0</td>\n",
       "      <td>...</td>\n",
       "      <td>0.0</td>\n",
       "      <td>1.0</td>\n",
       "      <td>3.0</td>\n",
       "      <td>0.0</td>\n",
       "      <td>0.0</td>\n",
       "      <td>0.0</td>\n",
       "      <td>0.0</td>\n",
       "      <td>7.0</td>\n",
       "      <td>6.0</td>\n",
       "      <td>1.0</td>\n",
       "    </tr>\n",
       "    <tr>\n",
       "      <th>2</th>\n",
       "      <td>0.0</td>\n",
       "      <td>1.0</td>\n",
       "      <td>1.0</td>\n",
       "      <td>1.0</td>\n",
       "      <td>28.0</td>\n",
       "      <td>0.0</td>\n",
       "      <td>0.0</td>\n",
       "      <td>0.0</td>\n",
       "      <td>0.0</td>\n",
       "      <td>1.0</td>\n",
       "      <td>...</td>\n",
       "      <td>1.0</td>\n",
       "      <td>1.0</td>\n",
       "      <td>5.0</td>\n",
       "      <td>30.0</td>\n",
       "      <td>30.0</td>\n",
       "      <td>1.0</td>\n",
       "      <td>0.0</td>\n",
       "      <td>9.0</td>\n",
       "      <td>4.0</td>\n",
       "      <td>8.0</td>\n",
       "    </tr>\n",
       "    <tr>\n",
       "      <th>3</th>\n",
       "      <td>0.0</td>\n",
       "      <td>1.0</td>\n",
       "      <td>0.0</td>\n",
       "      <td>1.0</td>\n",
       "      <td>27.0</td>\n",
       "      <td>0.0</td>\n",
       "      <td>0.0</td>\n",
       "      <td>0.0</td>\n",
       "      <td>1.0</td>\n",
       "      <td>1.0</td>\n",
       "      <td>...</td>\n",
       "      <td>1.0</td>\n",
       "      <td>0.0</td>\n",
       "      <td>2.0</td>\n",
       "      <td>0.0</td>\n",
       "      <td>0.0</td>\n",
       "      <td>0.0</td>\n",
       "      <td>0.0</td>\n",
       "      <td>11.0</td>\n",
       "      <td>3.0</td>\n",
       "      <td>6.0</td>\n",
       "    </tr>\n",
       "    <tr>\n",
       "      <th>4</th>\n",
       "      <td>0.0</td>\n",
       "      <td>1.0</td>\n",
       "      <td>1.0</td>\n",
       "      <td>1.0</td>\n",
       "      <td>24.0</td>\n",
       "      <td>0.0</td>\n",
       "      <td>0.0</td>\n",
       "      <td>0.0</td>\n",
       "      <td>1.0</td>\n",
       "      <td>1.0</td>\n",
       "      <td>...</td>\n",
       "      <td>1.0</td>\n",
       "      <td>0.0</td>\n",
       "      <td>2.0</td>\n",
       "      <td>3.0</td>\n",
       "      <td>0.0</td>\n",
       "      <td>0.0</td>\n",
       "      <td>0.0</td>\n",
       "      <td>11.0</td>\n",
       "      <td>5.0</td>\n",
       "      <td>4.0</td>\n",
       "    </tr>\n",
       "  </tbody>\n",
       "</table>\n",
       "<p>5 rows × 22 columns</p>\n",
       "</div>"
      ],
      "text/plain": [
       "   Diabetes_012  HighBP  HighChol  CholCheck   BMI  Smoker  Stroke  \\\n",
       "0           0.0     1.0       1.0        1.0  40.0     1.0     0.0   \n",
       "1           0.0     0.0       0.0        0.0  25.0     1.0     0.0   \n",
       "2           0.0     1.0       1.0        1.0  28.0     0.0     0.0   \n",
       "3           0.0     1.0       0.0        1.0  27.0     0.0     0.0   \n",
       "4           0.0     1.0       1.0        1.0  24.0     0.0     0.0   \n",
       "\n",
       "   HeartDiseaseorAttack  PhysActivity  Fruits  ...  AnyHealthcare  \\\n",
       "0                   0.0           0.0     0.0  ...            1.0   \n",
       "1                   0.0           1.0     0.0  ...            0.0   \n",
       "2                   0.0           0.0     1.0  ...            1.0   \n",
       "3                   0.0           1.0     1.0  ...            1.0   \n",
       "4                   0.0           1.0     1.0  ...            1.0   \n",
       "\n",
       "   NoDocbcCost  GenHlth  MentHlth  PhysHlth  DiffWalk  Sex   Age  Education  \\\n",
       "0          0.0      5.0      18.0      15.0       1.0  0.0   9.0        4.0   \n",
       "1          1.0      3.0       0.0       0.0       0.0  0.0   7.0        6.0   \n",
       "2          1.0      5.0      30.0      30.0       1.0  0.0   9.0        4.0   \n",
       "3          0.0      2.0       0.0       0.0       0.0  0.0  11.0        3.0   \n",
       "4          0.0      2.0       3.0       0.0       0.0  0.0  11.0        5.0   \n",
       "\n",
       "   Income  \n",
       "0     3.0  \n",
       "1     1.0  \n",
       "2     8.0  \n",
       "3     6.0  \n",
       "4     4.0  \n",
       "\n",
       "[5 rows x 22 columns]"
      ]
     },
     "execution_count": 3,
     "metadata": {},
     "output_type": "execute_result"
    }
   ],
   "source": [
    "raw = pd.read_csv(\"../Data/diabetes2_raw.csv\")\n",
    "raw.head()"
   ]
  },
  {
   "cell_type": "markdown",
   "id": "e36eb6f9",
   "metadata": {},
   "source": [
    "# Data Cleaning"
   ]
  },
  {
   "cell_type": "code",
   "execution_count": 4,
   "id": "d0fd39d4",
   "metadata": {},
   "outputs": [],
   "source": [
    "# Make a copy of the data\n",
    "data = raw.copy(deep=True)"
   ]
  },
  {
   "cell_type": "code",
   "execution_count": 5,
   "id": "88443842",
   "metadata": {},
   "outputs": [],
   "source": [
    "# Drop pre-diabetes patients\n",
    "data = data[data[\"Diabetes_012\"]!=1]\n",
    "data[\"Diabetes\"] = data[\"Diabetes_012\"].apply(lambda x: 1 if x > 0 else 0)\n",
    "data.drop([\"Diabetes_012\"],axis=1,inplace=True)\n",
    "data = data.reset_index(drop=True)"
   ]
  },
  {
   "cell_type": "code",
   "execution_count": 6,
   "id": "975f34fb",
   "metadata": {},
   "outputs": [
    {
     "data": {
      "image/png": "[encoded data removed]",
      "text/plain": [
       "<Figure size 864x576 with 1 Axes>"
      ]
     },
     "metadata": {
      "needs_background": "light"
     },
     "output_type": "display_data"
    }
   ],
   "source": [
    "# Mental health feature engineering (binning approach)\n",
    "plt.figure(figsize=(12,8))\n",
    "plt.boxplot(data[\"MentHlth\"],vert=False)\n",
    "plt.xlabel(\"Survey responses (# of days in past 30 days)\")\n",
    "plt.title(\"Mental Health Survey\")\n",
    "plt.show()\n",
    "\n",
    "mental_health = []\n",
    "good = np.median(data[\"MentHlth\"])\n",
    "medium = np.quantile(data[\"MentHlth\"],0.75) +\\\n",
    "         1.5*(np.quantile(data[\"MentHlth\"],0.75)-np.quantile(data[\"MentHlth\"],0.25))\n",
    "for i in range(len(data)):\n",
    "    if data[\"MentHlth\"][i] <= good:\n",
    "        mental_health.append(0)\n",
    "    elif data[\"MentHlth\"][i] <= medium:\n",
    "        mental_health.append(1)\n",
    "    else:\n",
    "        mental_health.append(2)     \n",
    "data[\"Mental_Health\"] = mental_health\n",
    "data.drop([\"MentHlth\"],axis=1,inplace=True)"
   ]
  },
  {
   "cell_type": "code",
   "execution_count": 7,
   "id": "fadfbd38",
   "metadata": {},
   "outputs": [
    {
     "data": {
      "image/png": "[encoded data removed]",
      "text/plain": [
       "<Figure size 864x576 with 1 Axes>"
      ]
     },
     "metadata": {
      "needs_background": "light"
     },
     "output_type": "display_data"
    }
   ],
   "source": [
    "# Physical health feature engineering (binning approach)\n",
    "plt.figure(figsize=(12,8))\n",
    "plt.boxplot(data[\"PhysHlth\"],vert=False)\n",
    "plt.xlabel(\"Survey responses (# of days in past 30 days)\")\n",
    "plt.title(\"Physical Health Survey\")\n",
    "plt.show()\n",
    "\n",
    "physical_health = []\n",
    "good = np.median(data[\"PhysHlth\"])\n",
    "medium = np.quantile(data[\"PhysHlth\"],0.75) +\\\n",
    "         1.5*(np.quantile(data[\"PhysHlth\"],0.75)-np.quantile(data[\"PhysHlth\"],0.25))\n",
    "for i in range(len(data)):\n",
    "    if data[\"PhysHlth\"][i] <= good:\n",
    "        physical_health.append(0)\n",
    "    elif data[\"PhysHlth\"][i] <= medium:\n",
    "        physical_health.append(1)\n",
    "    else:\n",
    "        physical_health.append(2)\n",
    "data[\"Physical_Health\"] = physical_health\n",
    "data.drop([\"PhysHlth\"],axis=1,inplace=True)"
   ]
  },
  {
   "cell_type": "code",
   "execution_count": 8,
   "id": "cd9ddc0e",
   "metadata": {},
   "outputs": [],
   "source": [
    "# General health feature cleaning (change to 1=bad, 5=good)\n",
    "general_health = []\n",
    "for i in range(len(data)):\n",
    "    if data[\"GenHlth\"][i] == 1:\n",
    "        general_health.append(5)\n",
    "    elif data[\"GenHlth\"][i] == 2:\n",
    "        general_health.append(4)\n",
    "    elif data[\"GenHlth\"][i] == 3:\n",
    "        general_health.append(3)\n",
    "    elif data[\"GenHlth\"][i] == 4:\n",
    "        general_health.append(2)\n",
    "    else:\n",
    "        general_health.append(1)\n",
    "data[\"General_Health_Survey\"] = general_health\n",
    "data.drop([\"GenHlth\"],axis=1,inplace=True)"
   ]
  },
  {
   "cell_type": "code",
   "execution_count": 9,
   "id": "1d8726a2",
   "metadata": {},
   "outputs": [
    {
     "data": {
      "image/png": "[encoded data removed]",
      "text/plain": [
       "<Figure size 432x288 with 1 Axes>"
      ]
     },
     "metadata": {
      "needs_background": "light"
     },
     "output_type": "display_data"
    },
    {
     "name": "stdout",
     "output_type": "stream",
     "text": [
      "Heavy Alcohol Consumption -> Diabetes Correlation: -0.0579\n"
     ]
    }
   ],
   "source": [
    "# Remove heavy alcohol consumption feature (biased feature)\n",
    "data[\"HvyAlcoholConsump\"].value_counts(normalize=True).plot(kind=\"bar\")\n",
    "plt.title(\"Heavy Alcohol Consumption\")\n",
    "plt.show()\n",
    "\n",
    "corr = data[[\"HvyAlcoholConsump\",\"Diabetes\"]].corr().values[0,1]\n",
    "print(f\"Heavy Alcohol Consumption -> Diabetes Correlation: {corr:.4f}\")\n",
    "\n",
    "data.drop([\"HvyAlcoholConsump\"],axis=1,inplace=True)"
   ]
  },
  {
   "cell_type": "code",
   "execution_count": 10,
   "id": "3dc7eed4",
   "metadata": {},
   "outputs": [],
   "source": [
    "# Rename columns\n",
    "data.columns = [\n",
    "    \"High_BP\",\n",
    "    \"High_Chol\",\n",
    "    \"Chol_Check\",\n",
    "    \"BMI\",\n",
    "    \"Smoker\",\n",
    "    \"Stroke\",\n",
    "    \"Heart_Disease_Attack\",\n",
    "    \"Physical_Activity\",\n",
    "    \"Fruits\",\n",
    "    \"Veggies\",\n",
    "    \"Healthcare\",\n",
    "    \"No_Doctor_Cost\",\n",
    "    \"Difficulty_Walk\",\n",
    "    \"Sex\",\n",
    "    \"Age\",\n",
    "    \"Education\",\n",
    "    \"Income\",\n",
    "    \"Diabetes\",\n",
    "    \"Mental_Health_Survey\",\n",
    "    \"Physical_Health_Survey\",\n",
    "    \"General_Health_Survey\"\n",
    "]"
   ]
  },
  {
   "cell_type": "code",
   "execution_count": 11,
   "id": "526a018a",
   "metadata": {},
   "outputs": [
    {
     "name": "stdout",
     "output_type": "stream",
     "text": [
      "Number of rows: 249049\n",
      "Number of features: 21\n",
      "\n",
      "Class Imbalance: 0.1419\n",
      "0    213703\n",
      "1     35346\n",
      "Name: Diabetes, dtype: int64\n",
      "\n",
      "Baseline Accuracy: 0.8581\n"
     ]
    }
   ],
   "source": [
    "# Class imbalance\n",
    "print(f\"Number of rows: {data.shape[0]}\")\n",
    "print(f\"Number of features: {data.shape[1]}\")\n",
    "print()\n",
    "print(f\"Class Imbalance: {data['Diabetes'].sum()/len(data):.4f}\")\n",
    "print(data[\"Diabetes\"].value_counts())\n",
    "print()\n",
    "print(f\"Baseline Accuracy: {(len(data)-data['Diabetes'].sum())/len(data):.4f}\")"
   ]
  },
  {
   "cell_type": "code",
   "execution_count": 12,
   "id": "3444c81b",
   "metadata": {},
   "outputs": [],
   "source": [
    "# Independent/dependent variables\n",
    "X = data.drop([\"Diabetes\"],axis=1)\n",
    "y = data[\"Diabetes\"]"
   ]
  },
  {
   "cell_type": "code",
   "execution_count": 13,
   "id": "c66058a4",
   "metadata": {},
   "outputs": [],
   "source": [
    "# Standardization\n",
    "X_std = (X - np.mean(X,axis=0))/(np.std(X,axis=0))"
   ]
  },
  {
   "cell_type": "markdown",
   "id": "0d6c35d1",
   "metadata": {},
   "source": [
    "# Load Models"
   ]
  },
  {
   "cell_type": "code",
   "execution_count": 14,
   "id": "bf98f946",
   "metadata": {},
   "outputs": [],
   "source": [
    "with open(\"../Models/xgboost_custom\",\"rb\") as f:\n",
    "    m_custom = pickle.load(f)"
   ]
  },
  {
   "cell_type": "code",
   "execution_count": 15,
   "id": "5347b40f",
   "metadata": {},
   "outputs": [
    {
     "data": {
      "image/png": "[encoded data removed]",
      "text/plain": [
       "<Figure size 576x684 with 2 Axes>"
      ]
     },
     "metadata": {
      "needs_background": "light"
     },
     "output_type": "display_data"
    }
   ],
   "source": [
    "explainer = shap.TreeExplainer(m_custom)\n",
    "shap_values = explainer.shap_values(X)\n",
    "plt.figure(figsize=(20,12))\n",
    "shap.summary_plot(shap_values,X,show=True,max_display=20,plot_type=\"violin\")\n",
    "plt.show()"
   ]
  },
  {
   "cell_type": "code",
   "execution_count": 16,
   "id": "23342121",
   "metadata": {},
   "outputs": [
    {
     "data": {
      "text/plain": [
       "array([0.7271544 , 0.02681713, 0.49657866, ..., 0.01238948, 0.13294514,\n",
       "       0.25514007], dtype=float32)"
      ]
     },
     "execution_count": 16,
     "metadata": {},
     "output_type": "execute_result"
    }
   ],
   "source": [
    "m_custom.predict_proba(X)[:,1]"
   ]
  },
  {
   "cell_type": "code",
   "execution_count": 17,
   "id": "ebafb2f3",
   "metadata": {},
   "outputs": [
    {
     "data": {
      "text/plain": [
       "0         0\n",
       "1         0\n",
       "2         0\n",
       "3         0\n",
       "4         0\n",
       "         ..\n",
       "249044    0\n",
       "249045    1\n",
       "249046    0\n",
       "249047    0\n",
       "249048    1\n",
       "Name: Diabetes, Length: 249049, dtype: int64"
      ]
     },
     "execution_count": 17,
     "metadata": {},
     "output_type": "execute_result"
    }
   ],
   "source": [
    "y"
   ]
  },
  {
   "cell_type": "code",
   "execution_count": null,
   "id": "3674d149",
   "metadata": {},
   "outputs": [],
   "source": []
  },
  {
   "cell_type": "code",
   "execution_count": null,
   "id": "92faa6da",
   "metadata": {},
   "outputs": [],
   "source": []
  },
  {
   "cell_type": "code",
   "execution_count": null,
   "id": "38301cc2",
   "metadata": {},
   "outputs": [],
   "source": []
  },
  {
   "cell_type": "code",
   "execution_count": null,
   "id": "ebe1e509",
   "metadata": {},
   "outputs": [],
   "source": []
  },
  {
   "cell_type": "code",
   "execution_count": null,
   "id": "429543c9",
   "metadata": {},
   "outputs": [],
   "source": []
  },
  {
   "cell_type": "code",
   "execution_count": null,
   "id": "aaa4121b",
   "metadata": {},
   "outputs": [],
   "source": []
  },
  {
   "cell_type": "code",
   "execution_count": null,
   "id": "fac8d2c6",
   "metadata": {},
   "outputs": [],
   "source": []
  }
 ],
 "metadata": {
  "kernelspec": {
   "display_name": "Python 3 (ipykernel)",
   "language": "python",
   "name": "python3"
  },
  "language_info": {
   "codemirror_mode": {
    "name": "ipython",
    "version": 3
   },
   "file_extension": ".py",
   "mimetype": "text/x-python",
   "name": "python",
   "nbconvert_exporter": "python",
   "pygments_lexer": "ipython3",
   "version": "3.10.4"
  }
 },
 "nbformat": 4,
 "nbformat_minor": 5
}
