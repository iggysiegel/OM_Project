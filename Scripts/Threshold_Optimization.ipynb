{
 "cells": [
  {
   "cell_type": "markdown",
   "id": "0bd16905",
   "metadata": {},
   "source": [
    "# Import Libraries / Verify Setup"
   ]
  },
  {
   "cell_type": "code",
   "execution_count": 1,
   "id": "ef7369bb",
   "metadata": {},
   "outputs": [],
   "source": [
    "import warnings\n",
    "warnings.filterwarnings('ignore') "
   ]
  },
  {
   "cell_type": "code",
   "execution_count": 2,
   "id": "c3a3ec45",
   "metadata": {},
   "outputs": [],
   "source": [
    "import pandas as pd\n",
    "import numpy as np\n",
    "import matplotlib.pyplot as plt\n",
    "import pickle\n",
    "import xgboost as xgb\n",
    "import shap\n",
    "import json\n",
    "import scipy\n",
    "from scipy.optimize import minimize_scalar"
   ]
  },
  {
   "cell_type": "markdown",
   "id": "b1ce1c0f",
   "metadata": {},
   "source": [
    "# Import Data"
   ]
  },
  {
   "cell_type": "code",
   "execution_count": 3,
   "id": "3438060b",
   "metadata": {},
   "outputs": [
    {
     "data": {
      "text/html": [
       "<div>\n",
       "<style scoped>\n",
       "    .dataframe tbody tr th:only-of-type {\n",
       "        vertical-align: middle;\n",
       "    }\n",
       "\n",
       "    .dataframe tbody tr th {\n",
       "        vertical-align: top;\n",
       "    }\n",
       "\n",
       "    .dataframe thead th {\n",
       "        text-align: right;\n",
       "    }\n",
       "</style>\n",
       "<table border=\"1\" class=\"dataframe\">\n",
       "  <thead>\n",
       "    <tr style=\"text-align: right;\">\n",
       "      <th></th>\n",
       "      <th>Diabetes_012</th>\n",
       "      <th>HighBP</th>\n",
       "      <th>HighChol</th>\n",
       "      <th>CholCheck</th>\n",
       "      <th>BMI</th>\n",
       "      <th>Smoker</th>\n",
       "      <th>Stroke</th>\n",
       "      <th>HeartDiseaseorAttack</th>\n",
       "      <th>PhysActivity</th>\n",
       "      <th>Fruits</th>\n",
       "      <th>...</th>\n",
       "      <th>AnyHealthcare</th>\n",
       "      <th>NoDocbcCost</th>\n",
       "      <th>GenHlth</th>\n",
       "      <th>MentHlth</th>\n",
       "      <th>PhysHlth</th>\n",
       "      <th>DiffWalk</th>\n",
       "      <th>Sex</th>\n",
       "      <th>Age</th>\n",
       "      <th>Education</th>\n",
       "      <th>Income</th>\n",
       "    </tr>\n",
       "  </thead>\n",
       "  <tbody>\n",
       "    <tr>\n",
       "      <th>0</th>\n",
       "      <td>0.0</td>\n",
       "      <td>1.0</td>\n",
       "      <td>1.0</td>\n",
       "      <td>1.0</td>\n",
       "      <td>40.0</td>\n",
       "      <td>1.0</td>\n",
       "      <td>0.0</td>\n",
       "      <td>0.0</td>\n",
       "      <td>0.0</td>\n",
       "      <td>0.0</td>\n",
       "      <td>...</td>\n",
       "      <td>1.0</td>\n",
       "      <td>0.0</td>\n",
       "      <td>5.0</td>\n",
       "      <td>18.0</td>\n",
       "      <td>15.0</td>\n",
       "      <td>1.0</td>\n",
       "      <td>0.0</td>\n",
       "      <td>9.0</td>\n",
       "      <td>4.0</td>\n",
       "      <td>3.0</td>\n",
       "    </tr>\n",
       "    <tr>\n",
       "      <th>1</th>\n",
       "      <td>0.0</td>\n",
       "      <td>0.0</td>\n",
       "      <td>0.0</td>\n",
       "      <td>0.0</td>\n",
       "      <td>25.0</td>\n",
       "      <td>1.0</td>\n",
       "      <td>0.0</td>\n",
       "      <td>0.0</td>\n",
       "      <td>1.0</td>\n",
       "      <td>0.0</td>\n",
       "      <td>...</td>\n",
       "      <td>0.0</td>\n",
       "      <td>1.0</td>\n",
       "      <td>3.0</td>\n",
       "      <td>0.0</td>\n",
       "      <td>0.0</td>\n",
       "      <td>0.0</td>\n",
       "      <td>0.0</td>\n",
       "      <td>7.0</td>\n",
       "      <td>6.0</td>\n",
       "      <td>1.0</td>\n",
       "    </tr>\n",
       "    <tr>\n",
       "      <th>2</th>\n",
       "      <td>0.0</td>\n",
       "      <td>1.0</td>\n",
       "      <td>1.0</td>\n",
       "      <td>1.0</td>\n",
       "      <td>28.0</td>\n",
       "      <td>0.0</td>\n",
       "      <td>0.0</td>\n",
       "      <td>0.0</td>\n",
       "      <td>0.0</td>\n",
       "      <td>1.0</td>\n",
       "      <td>...</td>\n",
       "      <td>1.0</td>\n",
       "      <td>1.0</td>\n",
       "      <td>5.0</td>\n",
       "      <td>30.0</td>\n",
       "      <td>30.0</td>\n",
       "      <td>1.0</td>\n",
       "      <td>0.0</td>\n",
       "      <td>9.0</td>\n",
       "      <td>4.0</td>\n",
       "      <td>8.0</td>\n",
       "    </tr>\n",
       "    <tr>\n",
       "      <th>3</th>\n",
       "      <td>0.0</td>\n",
       "      <td>1.0</td>\n",
       "      <td>0.0</td>\n",
       "      <td>1.0</td>\n",
       "      <td>27.0</td>\n",
       "      <td>0.0</td>\n",
       "      <td>0.0</td>\n",
       "      <td>0.0</td>\n",
       "      <td>1.0</td>\n",
       "      <td>1.0</td>\n",
       "      <td>...</td>\n",
       "      <td>1.0</td>\n",
       "      <td>0.0</td>\n",
       "      <td>2.0</td>\n",
       "      <td>0.0</td>\n",
       "      <td>0.0</td>\n",
       "      <td>0.0</td>\n",
       "      <td>0.0</td>\n",
       "      <td>11.0</td>\n",
       "      <td>3.0</td>\n",
       "      <td>6.0</td>\n",
       "    </tr>\n",
       "    <tr>\n",
       "      <th>4</th>\n",
       "      <td>0.0</td>\n",
       "      <td>1.0</td>\n",
       "      <td>1.0</td>\n",
       "      <td>1.0</td>\n",
       "      <td>24.0</td>\n",
       "      <td>0.0</td>\n",
       "      <td>0.0</td>\n",
       "      <td>0.0</td>\n",
       "      <td>1.0</td>\n",
       "      <td>1.0</td>\n",
       "      <td>...</td>\n",
       "      <td>1.0</td>\n",
       "      <td>0.0</td>\n",
       "      <td>2.0</td>\n",
       "      <td>3.0</td>\n",
       "      <td>0.0</td>\n",
       "      <td>0.0</td>\n",
       "      <td>0.0</td>\n",
       "      <td>11.0</td>\n",
       "      <td>5.0</td>\n",
       "      <td>4.0</td>\n",
       "    </tr>\n",
       "  </tbody>\n",
       "</table>\n",
       "<p>5 rows × 22 columns</p>\n",
       "</div>"
      ],
      "text/plain": [
       "   Diabetes_012  HighBP  HighChol  CholCheck   BMI  Smoker  Stroke  \\\n",
       "0           0.0     1.0       1.0        1.0  40.0     1.0     0.0   \n",
       "1           0.0     0.0       0.0        0.0  25.0     1.0     0.0   \n",
       "2           0.0     1.0       1.0        1.0  28.0     0.0     0.0   \n",
       "3           0.0     1.0       0.0        1.0  27.0     0.0     0.0   \n",
       "4           0.0     1.0       1.0        1.0  24.0     0.0     0.0   \n",
       "\n",
       "   HeartDiseaseorAttack  PhysActivity  Fruits  ...  AnyHealthcare  \\\n",
       "0                   0.0           0.0     0.0  ...            1.0   \n",
       "1                   0.0           1.0     0.0  ...            0.0   \n",
       "2                   0.0           0.0     1.0  ...            1.0   \n",
       "3                   0.0           1.0     1.0  ...            1.0   \n",
       "4                   0.0           1.0     1.0  ...            1.0   \n",
       "\n",
       "   NoDocbcCost  GenHlth  MentHlth  PhysHlth  DiffWalk  Sex   Age  Education  \\\n",
       "0          0.0      5.0      18.0      15.0       1.0  0.0   9.0        4.0   \n",
       "1          1.0      3.0       0.0       0.0       0.0  0.0   7.0        6.0   \n",
       "2          1.0      5.0      30.0      30.0       1.0  0.0   9.0        4.0   \n",
       "3          0.0      2.0       0.0       0.0       0.0  0.0  11.0        3.0   \n",
       "4          0.0      2.0       3.0       0.0       0.0  0.0  11.0        5.0   \n",
       "\n",
       "   Income  \n",
       "0     3.0  \n",
       "1     1.0  \n",
       "2     8.0  \n",
       "3     6.0  \n",
       "4     4.0  \n",
       "\n",
       "[5 rows x 22 columns]"
      ]
     },
     "execution_count": 3,
     "metadata": {},
     "output_type": "execute_result"
    }
   ],
   "source": [
    "raw = pd.read_csv(\"../Data/diabetes2_raw.csv\")\n",
    "raw.head()"
   ]
  },
  {
   "cell_type": "markdown",
   "id": "e36eb6f9",
   "metadata": {},
   "source": [
    "# Data Cleaning"
   ]
  },
  {
   "cell_type": "code",
   "execution_count": 4,
   "id": "d0fd39d4",
   "metadata": {},
   "outputs": [],
   "source": [
    "# Make a copy of the data\n",
    "data = raw.copy(deep=True)"
   ]
  },
  {
   "cell_type": "code",
   "execution_count": 5,
   "id": "88443842",
   "metadata": {},
   "outputs": [],
   "source": [
    "# Drop pre-diabetes patients\n",
    "data = data[data[\"Diabetes_012\"]!=1]\n",
    "data[\"Diabetes\"] = data[\"Diabetes_012\"].apply(lambda x: 1 if x > 0 else 0)\n",
    "data.drop([\"Diabetes_012\"],axis=1,inplace=True)\n",
    "data = data.reset_index(drop=True)"
   ]
  },
  {
   "cell_type": "code",
   "execution_count": 6,
   "id": "975f34fb",
   "metadata": {},
   "outputs": [
    {
     "data": {
      "image/png": "[encoded data removed]",
      "text/plain": [
       "<Figure size 864x576 with 1 Axes>"
      ]
     },
     "metadata": {
      "needs_background": "light"
     },
     "output_type": "display_data"
    }
   ],
   "source": [
    "# Mental health feature engineering (binning approach)\n",
    "plt.figure(figsize=(12,8))\n",
    "plt.boxplot(data[\"MentHlth\"],vert=False)\n",
    "plt.xlabel(\"Survey responses (# of days in past 30 days)\")\n",
    "plt.title(\"Mental Health Survey\")\n",
    "plt.show()\n",
    "\n",
    "mental_health = []\n",
    "good = np.median(data[\"MentHlth\"])\n",
    "medium = np.quantile(data[\"MentHlth\"],0.75) +\\\n",
    "         1.5*(np.quantile(data[\"MentHlth\"],0.75)-np.quantile(data[\"MentHlth\"],0.25))\n",
    "for i in range(len(data)):\n",
    "    if data[\"MentHlth\"][i] <= good:\n",
    "        mental_health.append(0)\n",
    "    elif data[\"MentHlth\"][i] <= medium:\n",
    "        mental_health.append(1)\n",
    "    else:\n",
    "        mental_health.append(2)     \n",
    "data[\"Mental_Health\"] = mental_health\n",
    "data.drop([\"MentHlth\"],axis=1,inplace=True)"
   ]
  },
  {
   "cell_type": "code",
   "execution_count": 7,
   "id": "fadfbd38",
   "metadata": {},
   "outputs": [
    {
     "data": {
      "image/png": "[encoded data removed]",
      "text/plain": [
       "<Figure size 864x576 with 1 Axes>"
      ]
     },
     "metadata": {
      "needs_background": "light"
     },
     "output_type": "display_data"
    }
   ],
   "source": [
    "# Physical health feature engineering (binning approach)\n",
    "plt.figure(figsize=(12,8))\n",
    "plt.boxplot(data[\"PhysHlth\"],vert=False)\n",
    "plt.xlabel(\"Survey responses (# of days in past 30 days)\")\n",
    "plt.title(\"Physical Health Survey\")\n",
    "plt.show()\n",
    "\n",
    "physical_health = []\n",
    "good = np.median(data[\"PhysHlth\"])\n",
    "medium = np.quantile(data[\"PhysHlth\"],0.75) +\\\n",
    "         1.5*(np.quantile(data[\"PhysHlth\"],0.75)-np.quantile(data[\"PhysHlth\"],0.25))\n",
    "for i in range(len(data)):\n",
    "    if data[\"PhysHlth\"][i] <= good:\n",
    "        physical_health.append(0)\n",
    "    elif data[\"PhysHlth\"][i] <= medium:\n",
    "        physical_health.append(1)\n",
    "    else:\n",
    "        physical_health.append(2)\n",
    "data[\"Physical_Health\"] = physical_health\n",
    "data.drop([\"PhysHlth\"],axis=1,inplace=True)"
   ]
  },
  {
   "cell_type": "code",
   "execution_count": 8,
   "id": "cd9ddc0e",
   "metadata": {},
   "outputs": [],
   "source": [
    "# General health feature cleaning (change to 1=bad, 5=good)\n",
    "general_health = []\n",
    "for i in range(len(data)):\n",
    "    if data[\"GenHlth\"][i] == 1:\n",
    "        general_health.append(5)\n",
    "    elif data[\"GenHlth\"][i] == 2:\n",
    "        general_health.append(4)\n",
    "    elif data[\"GenHlth\"][i] == 3:\n",
    "        general_health.append(3)\n",
    "    elif data[\"GenHlth\"][i] == 4:\n",
    "        general_health.append(2)\n",
    "    else:\n",
    "        general_health.append(1)\n",
    "data[\"General_Health_Survey\"] = general_health\n",
    "data.drop([\"GenHlth\"],axis=1,inplace=True)"
   ]
  },
  {
   "cell_type": "code",
   "execution_count": 9,
   "id": "1d8726a2",
   "metadata": {},
   "outputs": [
    {
     "data": {
      "image/png": "[encoded data removed]",
      "text/plain": [
       "<Figure size 432x288 with 1 Axes>"
      ]
     },
     "metadata": {
      "needs_background": "light"
     },
     "output_type": "display_data"
    },
    {
     "name": "stdout",
     "output_type": "stream",
     "text": [
      "Heavy Alcohol Consumption -> Diabetes Correlation: -0.0579\n"
     ]
    }
   ],
   "source": [
    "# Remove heavy alcohol consumption feature (biased feature)\n",
    "data[\"HvyAlcoholConsump\"].value_counts(normalize=True).plot(kind=\"bar\")\n",
    "plt.title(\"Heavy Alcohol Consumption\")\n",
    "plt.show()\n",
    "\n",
    "corr = data[[\"HvyAlcoholConsump\",\"Diabetes\"]].corr().values[0,1]\n",
    "print(f\"Heavy Alcohol Consumption -> Diabetes Correlation: {corr:.4f}\")\n",
    "\n",
    "data.drop([\"HvyAlcoholConsump\"],axis=1,inplace=True)"
   ]
  },
  {
   "cell_type": "code",
   "execution_count": 10,
   "id": "3dc7eed4",
   "metadata": {},
   "outputs": [],
   "source": [
    "# Rename columns\n",
    "data.columns = [\n",
    "    \"High_BP\",\n",
    "    \"High_Chol\",\n",
    "    \"Chol_Check\",\n",
    "    \"BMI\",\n",
    "    \"Smoker\",\n",
    "    \"Stroke\",\n",
    "    \"Heart_Disease_Attack\",\n",
    "    \"Physical_Activity\",\n",
    "    \"Fruits\",\n",
    "    \"Veggies\",\n",
    "    \"Healthcare\",\n",
    "    \"No_Doctor_Cost\",\n",
    "    \"Difficulty_Walk\",\n",
    "    \"Sex\",\n",
    "    \"Age\",\n",
    "    \"Education\",\n",
    "    \"Income\",\n",
    "    \"Diabetes\",\n",
    "    \"Mental_Health_Survey\",\n",
    "    \"Physical_Health_Survey\",\n",
    "    \"General_Health_Survey\"\n",
    "]"
   ]
  },
  {
   "cell_type": "code",
   "execution_count": 11,
   "id": "526a018a",
   "metadata": {},
   "outputs": [
    {
     "name": "stdout",
     "output_type": "stream",
     "text": [
      "Number of rows: 249049\n",
      "Number of features: 21\n",
      "\n",
      "Class Imbalance: 0.1419\n",
      "0    213703\n",
      "1     35346\n",
      "Name: Diabetes, dtype: int64\n",
      "\n",
      "Baseline Accuracy: 0.8581\n"
     ]
    }
   ],
   "source": [
    "# Class imbalance\n",
    "print(f\"Number of rows: {data.shape[0]}\")\n",
    "print(f\"Number of features: {data.shape[1]}\")\n",
    "print()\n",
    "print(f\"Class Imbalance: {data['Diabetes'].sum()/len(data):.4f}\")\n",
    "print(data[\"Diabetes\"].value_counts())\n",
    "print()\n",
    "print(f\"Baseline Accuracy: {(len(data)-data['Diabetes'].sum())/len(data):.4f}\")"
   ]
  },
  {
   "cell_type": "code",
   "execution_count": 12,
   "id": "3444c81b",
   "metadata": {},
   "outputs": [],
   "source": [
    "# Independent/dependent variables\n",
    "X = data.drop([\"Diabetes\"],axis=1)\n",
    "y = data[\"Diabetes\"]"
   ]
  },
  {
   "cell_type": "code",
   "execution_count": 13,
   "id": "c66058a4",
   "metadata": {},
   "outputs": [],
   "source": [
    "# Standardization\n",
    "X_std = (X - np.mean(X,axis=0))/(np.std(X,axis=0))"
   ]
  },
  {
   "cell_type": "markdown",
   "id": "0d6c35d1",
   "metadata": {},
   "source": [
    "# Load Models"
   ]
  },
  {
   "cell_type": "code",
   "execution_count": 14,
   "id": "bf98f946",
   "metadata": {},
   "outputs": [],
   "source": [
    "with open(\"../Models/xgboost_custom\",\"rb\") as f:\n",
    "    m_custom = pickle.load(f)"
   ]
  },
  {
   "cell_type": "markdown",
   "id": "bdb226c7",
   "metadata": {},
   "source": [
    "### Load predictions and define costs"
   ]
  },
  {
   "cell_type": "code",
   "execution_count": 16,
   "id": "3674d149",
   "metadata": {},
   "outputs": [],
   "source": [
    "predictions = pd.read_csv(\"../Data/predictions.csv\")"
   ]
  },
  {
   "cell_type": "code",
   "execution_count": 17,
   "id": "92faa6da",
   "metadata": {},
   "outputs": [
    {
     "data": {
      "text/html": [
       "<div>\n",
       "<style scoped>\n",
       "    .dataframe tbody tr th:only-of-type {\n",
       "        vertical-align: middle;\n",
       "    }\n",
       "\n",
       "    .dataframe tbody tr th {\n",
       "        vertical-align: top;\n",
       "    }\n",
       "\n",
       "    .dataframe thead th {\n",
       "        text-align: right;\n",
       "    }\n",
       "</style>\n",
       "<table border=\"1\" class=\"dataframe\">\n",
       "  <thead>\n",
       "    <tr style=\"text-align: right;\">\n",
       "      <th></th>\n",
       "      <th>cart</th>\n",
       "      <th>logistic_regression</th>\n",
       "      <th>xgboost</th>\n",
       "      <th>xgboost_custom</th>\n",
       "    </tr>\n",
       "  </thead>\n",
       "  <tbody>\n",
       "    <tr>\n",
       "      <th>0</th>\n",
       "      <td>0.820489</td>\n",
       "      <td>1.000000</td>\n",
       "      <td>0.644011</td>\n",
       "      <td>0.727154</td>\n",
       "    </tr>\n",
       "    <tr>\n",
       "      <th>1</th>\n",
       "      <td>0.518828</td>\n",
       "      <td>0.999571</td>\n",
       "      <td>0.018293</td>\n",
       "      <td>0.026817</td>\n",
       "    </tr>\n",
       "    <tr>\n",
       "      <th>2</th>\n",
       "      <td>0.683080</td>\n",
       "      <td>0.999975</td>\n",
       "      <td>0.405766</td>\n",
       "      <td>0.496579</td>\n",
       "    </tr>\n",
       "    <tr>\n",
       "      <th>3</th>\n",
       "      <td>0.379847</td>\n",
       "      <td>0.999919</td>\n",
       "      <td>0.108870</td>\n",
       "      <td>0.178998</td>\n",
       "    </tr>\n",
       "    <tr>\n",
       "      <th>4</th>\n",
       "      <td>0.379847</td>\n",
       "      <td>0.999824</td>\n",
       "      <td>0.119110</td>\n",
       "      <td>0.183606</td>\n",
       "    </tr>\n",
       "  </tbody>\n",
       "</table>\n",
       "</div>"
      ],
      "text/plain": [
       "       cart  logistic_regression   xgboost  xgboost_custom\n",
       "0  0.820489             1.000000  0.644011        0.727154\n",
       "1  0.518828             0.999571  0.018293        0.026817\n",
       "2  0.683080             0.999975  0.405766        0.496579\n",
       "3  0.379847             0.999919  0.108870        0.178998\n",
       "4  0.379847             0.999824  0.119110        0.183606"
      ]
     },
     "execution_count": 17,
     "metadata": {},
     "output_type": "execute_result"
    }
   ],
   "source": [
    "predictions.head()"
   ]
  },
  {
   "cell_type": "code",
   "execution_count": 18,
   "id": "ebe1e509",
   "metadata": {},
   "outputs": [],
   "source": [
    "cost_mat = [[28, 13], [88, 0]]"
   ]
  },
  {
   "cell_type": "markdown",
   "id": "ec7fa17e",
   "metadata": {},
   "source": [
    "### Make functions to classify based on threshold and then assign costs"
   ]
  },
  {
   "cell_type": "code",
   "execution_count": 19,
   "id": "01519cbd",
   "metadata": {},
   "outputs": [],
   "source": [
    "def cost_assign(pred, actual):\n",
    "    conditions = [(pred == 1) & (actual == 1), (pred == 0) & (actual == 0), \n",
    "                       (pred == 0) & (actual == 1), (pred == 1) & (actual == 0)]\n",
    "    choices = (cost_mat[0][0], cost_mat[1][1], cost_mat[1][0], cost_mat[0][1])\n",
    "    \n",
    "    costs = np.select(conditions, choices)\n",
    "    return costs"
   ]
  },
  {
   "cell_type": "code",
   "execution_count": 20,
   "id": "5ce8f0b0",
   "metadata": {},
   "outputs": [],
   "source": [
    "def cost_function(x, predictions):\n",
    "    pred_class = np.where(predictions > x, 1, 0)\n",
    "    cost = cost_assign(pred_class, y)\n",
    "    \n",
    "    total_cost = sum(cost)\n",
    "    return total_cost"
   ]
  },
  {
   "cell_type": "code",
   "execution_count": 21,
   "id": "8b6aeb6e",
   "metadata": {},
   "outputs": [],
   "source": [
    "def opt_threshold(predictions):    \n",
    "    opt_thresh = minimize_scalar(cost_function, method = \"bounded\", bounds=(0,1), args = predictions)\n",
    "    return opt_thresh"
   ]
  },
  {
   "cell_type": "markdown",
   "id": "ff40745e",
   "metadata": {},
   "source": [
    "### Optimize threshold to minimize total cost"
   ]
  },
  {
   "cell_type": "code",
   "execution_count": 22,
   "id": "c7c47bc1",
   "metadata": {},
   "outputs": [
    {
     "name": "stdout",
     "output_type": "stream",
     "text": [
      "     fun: 2382178\n",
      " message: 'Solution found.'\n",
      "    nfev: 22\n",
      "     nit: 22\n",
      "  status: 0\n",
      " success: True\n",
      "       x: 0.5256291798982113\n"
     ]
    }
   ],
   "source": [
    "cart_thresh = opt_threshold(predictions[\"cart\"])\n",
    "print(cart_thresh)"
   ]
  },
  {
   "cell_type": "code",
   "execution_count": 23,
   "id": "6f25635e",
   "metadata": {},
   "outputs": [
    {
     "name": "stdout",
     "output_type": "stream",
     "text": [
      "     fun: 2383312\n",
      " message: 'Solution found.'\n",
      "    nfev: 25\n",
      "     nit: 25\n",
      "  status: 0\n",
      " success: True\n",
      "       x: 0.9999624918161159\n"
     ]
    }
   ],
   "source": [
    "lr_thresh = opt_threshold(predictions[\"logistic_regression\"])\n",
    "print(lr_thresh)"
   ]
  },
  {
   "cell_type": "code",
   "execution_count": 24,
   "id": "b0651428",
   "metadata": {},
   "outputs": [
    {
     "name": "stdout",
     "output_type": "stream",
     "text": [
      "     fun: 2188509\n",
      " message: 'Solution found.'\n",
      "    nfev: 22\n",
      "     nit: 22\n",
      "  status: 0\n",
      " success: True\n",
      "       x: 0.17750285665073812\n"
     ]
    }
   ],
   "source": [
    "xgb_thresh = opt_threshold(predictions[\"xgboost\"])\n",
    "print(xgb_thresh)"
   ]
  },
  {
   "cell_type": "code",
   "execution_count": 25,
   "id": "fac8d2c6",
   "metadata": {},
   "outputs": [
    {
     "name": "stdout",
     "output_type": "stream",
     "text": [
      "     fun: 2183086\n",
      " message: 'Solution found.'\n",
      "    nfev: 20\n",
      "     nit: 20\n",
      "  status: 0\n",
      " success: True\n",
      "       x: 0.2554354943510207\n"
     ]
    }
   ],
   "source": [
    "xgbcustom_thresh = opt_threshold(predictions[\"xgboost_custom\"])\n",
    "print(xgbcustom_thresh)"
   ]
  },
  {
   "cell_type": "markdown",
   "id": "2751d942",
   "metadata": {},
   "source": [
    "### Check thresholds"
   ]
  },
  {
   "cell_type": "code",
   "execution_count": 26,
   "id": "bc21e47d",
   "metadata": {},
   "outputs": [
    {
     "data": {
      "text/plain": [
       "79967"
      ]
     },
     "execution_count": 26,
     "metadata": {},
     "output_type": "execute_result"
    }
   ],
   "source": [
    "check_cart = np.where(predictions[\"cart\"] > cart_thresh[\"x\"], 1, 0)\n",
    "sum(check_cart)"
   ]
  },
  {
   "cell_type": "code",
   "execution_count": 27,
   "id": "f6301e33",
   "metadata": {},
   "outputs": [
    {
     "data": {
      "text/plain": [
       "76612"
      ]
     },
     "execution_count": 27,
     "metadata": {},
     "output_type": "execute_result"
    }
   ],
   "source": [
    "check_lr = np.where(predictions[\"logistic_regression\"] > lr_thresh[\"x\"], 1, 0)\n",
    "sum(check_lr)"
   ]
  },
  {
   "cell_type": "code",
   "execution_count": 28,
   "id": "91fb3e31",
   "metadata": {},
   "outputs": [
    {
     "data": {
      "text/plain": [
       "73908"
      ]
     },
     "execution_count": 28,
     "metadata": {},
     "output_type": "execute_result"
    }
   ],
   "source": [
    "check_xgb = np.where(predictions[\"xgboost\"] > xgb_thresh[\"x\"], 1, 0)\n",
    "sum(check_xgb)"
   ]
  },
  {
   "cell_type": "code",
   "execution_count": 29,
   "id": "280868a7",
   "metadata": {},
   "outputs": [
    {
     "data": {
      "text/plain": [
       "71430"
      ]
     },
     "execution_count": 29,
     "metadata": {},
     "output_type": "execute_result"
    }
   ],
   "source": [
    "check_xgbcustom = np.where(predictions[\"xgboost_custom\"] > xgbcustom_thresh[\"x\"], 1, 0)\n",
    "sum(check_xgbcustom)"
   ]
  },
  {
   "cell_type": "code",
   "execution_count": 30,
   "id": "05b9cf03",
   "metadata": {},
   "outputs": [
    {
     "data": {
      "text/plain": [
       "35346"
      ]
     },
     "execution_count": 30,
     "metadata": {},
     "output_type": "execute_result"
    }
   ],
   "source": [
    "sum(y)"
   ]
  }
 ],
 "metadata": {
  "kernelspec": {
   "display_name": "Python 3.10.4 ('research')",
   "language": "python",
   "name": "python3"
  },
  "language_info": {
   "codemirror_mode": {
    "name": "ipython",
    "version": 3
   },
   "file_extension": ".py",
   "mimetype": "text/x-python",
   "name": "python",
   "nbconvert_exporter": "python",
   "pygments_lexer": "ipython3",
   "version": "3.10.4"
  },
  "vscode": {
   "interpreter": {
    "hash": "4b9bd38fbe9383048074f4b9778443c46130170d219cc1117b9db099cf32469f"
   }
  }
 },
 "nbformat": 4,
 "nbformat_minor": 5
}
